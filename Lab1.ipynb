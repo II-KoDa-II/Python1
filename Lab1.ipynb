{
 "cells": [
  {
   "cell_type": "markdown",
   "metadata": {},
   "source": [
    "1. Напишите программу, которая считывает с клавиатуры последовательно три строки:\n",
    "название фильма, название кинотеатра и время, после чего выводит на экран «Билет на \"\n",
    "[название фильма] \" в \" [название кинотеатра] \" на [время] забронирован.»."
   ]
  },
  {
   "cell_type": "code",
   "execution_count": null,
   "metadata": {},
   "outputs": [],
   "source": [
    "film_name = input(\"Введите название фильма\")\n",
    "cinema_name = input(\"Введите название театра\")\n",
    "start_time = input(\"Введите время начала фильма\")\n",
    "\n",
    "print(\"Билет на \\\"\" + film_name + \"\\\" в \\\"\" + cinema_name + \"\\\" на \" + start_time + \" заброниронирован.\")"
   ]
  },
  {
   "cell_type": "markdown",
   "metadata": {},
   "source": [
    "2. Напишите программу, которая считывает две строки и выводит «ВЕРНО», если в каждой из\n",
    "них записано или слово только да, или только слово нет (в любой комбинации). Если это не\n",
    "так, выведите «НЕВЕРНО»."
   ]
  },
  {
   "cell_type": "code",
   "execution_count": null,
   "metadata": {},
   "outputs": [],
   "source": [
    "string_1 = input(\"Введите либо да, либо нет\")\n",
    "string_2 = input(\"Введите либо да, либо нет\")\n",
    "\n",
    "print(string_1)\n",
    "print(string_2)\n",
    "print()\n",
    "\n",
    "if string_1.lower() == \"да\" or string_1.lower() == \"нет\" and string_2.lower() == \"да\" or string_1.lower() == \"нет\":\n",
    "    print(\"ВЕРНО\")\n",
    "else:\n",
    "    print(\"НЕВЕРНО\")"
   ]
  },
  {
   "cell_type": "markdown",
   "metadata": {},
   "source": [
    "3. Напишите программу, которая проверяет, что пользователь ввёл корректный логин (не\n",
    "содержащий символ «@») и корректный резервный адрес (содержащий символ «@»). Иных\n",
    "проверок, кроме указанных здесь, выполнять не надо.\n",
    "Используйте оператор in."
   ]
  },
  {
   "cell_type": "code",
   "execution_count": null,
   "metadata": {},
   "outputs": [],
   "source": [
    "login = input(\"Введите логин\")\n",
    "reserve_address = input(\"Введите резервный адрес\")\n",
    "\n",
    "print(login)\n",
    "print(reserve_address)\n",
    "print()\n",
    "\n",
    "correct_info = 1\n",
    "\n",
    "if \"@\" in login:\n",
    "    correct_info = 0\n",
    "    print(\"Введен некорректный логин\")\n",
    "if \"@\" not in reserve_address:\n",
    "    correct_info = 0\n",
    "    print(\"Введен некорректный резервный адрес\")\n",
    "if correct_info == 1:\n",
    "    print(\"Аккаунт успешно взломан\")"
   ]
  },
  {
   "cell_type": "markdown",
   "metadata": {},
   "source": [
    "4. Напишите программу, которая считывает рост претендентов в отряд космонавтов до тех пор,\n",
    "пока не будет введен «!». А затем выводит на первой строчке количество подходящих\n",
    "кандидатур, а на второй строке – минимальный и максимальный рост участников,\n",
    "отобранных в новый отряд космонавтов. Рост космонавта не может быть больше 190 см и\n",
    "меньше 150 см."
   ]
  },
  {
   "cell_type": "code",
   "execution_count": null,
   "metadata": {},
   "outputs": [],
   "source": [
    "candidates = []\n",
    "astronaut_candidate_number = 0\n",
    "minimal_height = 150\n",
    "maximum_height = 190\n",
    "\n",
    "while True:\n",
    "    height = input(\"Введите рост кандидата номер \" + str(astronaut_candidate_number + 1))\n",
    "\n",
    "    if \"!\" in str(height):\n",
    "        break\n",
    "    else:\n",
    "\n",
    "        try:\n",
    "            float(height) >= 150 and float(height) <= 190\n",
    "        except:\n",
    "            print(\"Введено нечисловое значение\")\n",
    "        else:\n",
    "            if float(height) >= 150 and float(height) <= 190:\n",
    "                candidates.append(height)  \n",
    "\n",
    "    astronaut_candidate_number += 1\n",
    "\n",
    "if candidates:\n",
    "    heighest_candidate = candidates[0]\n",
    "    lowest_candidate = candidates[0]\n",
    "\n",
    "    for astronaut_candidate in candidates:\n",
    "        if astronaut_candidate > heighest_candidate:\n",
    "            heighest_candidate = astronaut_candidate\n",
    "        if astronaut_candidate < lowest_candidate:\n",
    "            lowest_candidate = astronaut_candidate\n",
    "\n",
    "    print(\"Количество годных кандидатов: \" + str(len(candidates)))\n",
    "    print(\"Самые выскоий и низкий кандидаты: \" + heighest_candidate + \", \" + lowest_candidate)\n",
    "else: print(\"Нету годных кандидатов\")"
   ]
  },
  {
   "cell_type": "markdown",
   "metadata": {},
   "source": [
    "5. Напишите программу, которая имитирует проверку пароля, придуманного пользователем.\n",
    "Пользователь вводит пару слов: пароль, а потом ещё раз его же, для подтверждения.\n",
    "Если введённая пара не удовлетворяет одному из перечисленных ниже условий,\n",
    "пользователь вводит пару паролей ещё раз, и так до тех пор, пока не будут выполнены все\n",
    "условия (т. е. пока программа не выведет «OK»).\n",
    "- если первый пароль из пары, который ввёл пользователь короче 8 символов,\n",
    "программа выводит на экран слово \"Короткий!\" и заново считывает пару словпаролей;\n",
    "- если же первый пароль из пары достаточно длинный, но в нём содержится сочетание\n",
    "символов \"123\", программа выводит на экран слово \"Простой!\" и снова читает пару\n",
    "слов-паролей;\n",
    "- если же предыдущие проверки пройдены успешно, но введённые слова-пароли не\n",
    "совпадают, то программа выводит на экран слово \"Различаются.\" и опять же читает\n",
    "пару слов-паролей;\n",
    "- если же и третья проверка пройдена успешно, программа выводит \"OK\" (латинскими\n",
    "буквами) и заканчивает свою работу.\n"
   ]
  },
  {
   "cell_type": "code",
   "execution_count": null,
   "metadata": {},
   "outputs": [],
   "source": [
    "while True:\n",
    "\n",
    "    while True:\n",
    "        password = input(\"Введите пароль\")\n",
    "        if \"123\" not in password and not len(password) < 8:\n",
    "            break\n",
    "        else:\n",
    "            if len(password) < 8: print(\"Короткий!\")\n",
    "            if \"123\" in password: print(\"Простой!\")\n",
    "    \n",
    "    password_repeat = input(\"Повторите пароль\")\n",
    "    if password != password_repeat:\n",
    "        print(\"Различаются\")\n",
    "    else:\n",
    "        print(\"OK\")\n",
    "        break\n"
   ]
  },
  {
   "cell_type": "markdown",
   "metadata": {},
   "source": [
    "6. Выведите пирамиду из символов «*» заданной высоты."
   ]
  },
  {
   "cell_type": "code",
   "execution_count": null,
   "metadata": {},
   "outputs": [],
   "source": [
    "try:\n",
    "    height = int(input(\"Введите высоту\"))\n",
    "except Exception as error:\n",
    "    print(\"Произошел некорректный ввод данных:\")\n",
    "    print(error)\n",
    "else:\n",
    "    for output in range(height):\n",
    "    \n",
    "        for spaces in range (height - output):\n",
    "            print(\" \", end=\"\")\n",
    "    \n",
    "        for stars in range (output + output - 1):\n",
    "            print(\"*\", end=\"\")\n",
    "    \n",
    "        print()"
   ]
  },
  {
   "cell_type": "markdown",
   "metadata": {},
   "source": [
    "7. Напишите программу, принимающую на вход целое положительное число N, и выводящую\n",
    "на экран последовательность от 1 до N «ёлочкой»."
   ]
  },
  {
   "cell_type": "code",
   "execution_count": null,
   "metadata": {},
   "outputs": [],
   "source": [
    "import math\n",
    "\n",
    "try:\n",
    "    number = int(input(\"Введите число\"))\n",
    "    math.sqrt(number)\n",
    "except Exception as error:\n",
    "    print(\"Произошел некорректный ввод данных:\")\n",
    "    print(error)\n",
    "else:\n",
    "\n",
    "    cycle = 0\n",
    "    current_line = 0\n",
    "\n",
    "    for N in range(1, number + 1):\n",
    "\n",
    "        print(N, end=\" \")\n",
    "    \n",
    "        if current_line < cycle:\n",
    "            current_line += 1\n",
    "\n",
    "        else:\n",
    "            cycle += 1\n",
    "            current_line = 0\n",
    "            \n",
    "            print()"
   ]
  },
  {
   "cell_type": "markdown",
   "metadata": {},
   "source": [
    "8. Дана строка\n",
    "- Сначала выведите третий символ этой строки.\n",
    "- Во второй строке выведите предпоследний символ этой строки.\n",
    "- В третьей строке выведите первые пять символов этой строки.\n",
    "- В четвертой строке выведите всю строку, кроме последних двух символов.\n",
    "- В пятой строке выведите все символы с четными индексами (считая, что индексация начинается с 0, поэтому символы выводятся начиная с первого).\n",
    "- В шестой строке выведите все символы с нечетными индексами, то есть начиная со второго символа строки.\n",
    "- В седьмой строке выведите все символы в обратном порядке.\n",
    "- В восьмой строке выведите все символы строки через один в обратном порядке, начиная с последнего.\n",
    "- В девятой строке выведите длину данной строки."
   ]
  },
  {
   "cell_type": "code",
   "execution_count": null,
   "metadata": {},
   "outputs": [],
   "source": [
    "input_string = str(input(\"Введите строку\"))\n",
    "\n",
    "#1\n",
    "try: print(input_string[2])\n",
    "except Exception as error:\n",
    "    print(\"Произошел некорректный ввод данных:\", error)\n",
    "\n",
    "#2\n",
    "try: print(input_string[-2])\n",
    "except Exception as error:\n",
    "    print(\"Произошел некорректный ввод данных:\", error)\n",
    "\n",
    "#3\n",
    "print(input_string[:5])\n",
    "\n",
    "#4\n",
    "print(input_string[:-2])\n",
    "\n",
    "#5\n",
    "print(input_string[::2])\n",
    "\n",
    "#6\n",
    "print(input_string[1::2])\n",
    "\n",
    "#7\n",
    "print(input_string[::-1])\n",
    "\n",
    "#8\n",
    "print(input_string[::-2])\n",
    "\n",
    "#9\n",
    "print(len(input_string))"
   ]
  },
  {
   "cell_type": "markdown",
   "metadata": {},
   "source": [
    "9. Дана строка. Если в этой строке буква f встречается только 1 раз, выведите ее индекс. Если она встречается два и более раз, выведите индекс ее первого и последннего появления. Если буква f в данной строке не встречается, ничего не выводите.\n",
    "При решении данной задачи не стоит использовать циклы."
   ]
  },
  {
   "cell_type": "code",
   "execution_count": null,
   "metadata": {},
   "outputs": [],
   "source": [
    "input_string = str(input(\"Введите строку\"))\n",
    "\n",
    "first_index = input_string.find('f')\n",
    "last_index = input_string.rfind('f')\n",
    "\n",
    "if first_index != last_index:\n",
    "    print(str(first_index) + \" \" + str(last_index))\n",
    "\n",
    "elif first_index != -1:\n",
    "    print(first_index)"
   ]
  },
  {
   "cell_type": "markdown",
   "metadata": {},
   "source": [
    "10. Пользователь (или несколько пользователей за одним компьютером) вводит слова. Начиная\n",
    "со второго введённого слова, программа проверяет, совпадает ли первая буква\n",
    "свежевведённого слова с последней буквой предыдущего. Если да, то программа работает\n",
    "дальше (считывает очередное слово). Если нет — выводит последнее на этот момент\n",
    "введённое слово и завершает работу."
   ]
  },
  {
   "cell_type": "code",
   "execution_count": null,
   "metadata": {},
   "outputs": [],
   "source": [
    "input_buffer = str(input(\"Введите первое слово\"))\n",
    "\n",
    "while True:\n",
    "    input_next = str(input(\"Введите следущее слово\"))\n",
    "\n",
    "    if input_next[0] == input_buffer[-1]:\n",
    "        input_buffer = input_next\n",
    "    else:\n",
    "        print(input_next)\n",
    "        break"
   ]
  },
  {
   "cell_type": "markdown",
   "metadata": {},
   "source": [
    "11. Выведите слово так, как будто ему что-то мешает произноситься. Каждую букву нужно\n",
    "вывести столько раз, каков ее номер в строке."
   ]
  },
  {
   "cell_type": "code",
   "execution_count": null,
   "metadata": {},
   "outputs": [],
   "source": [
    "input_string = str(input(\"Введите слово (или строку)\"))\n",
    "print(input_string)\n",
    "\n",
    "print()\n",
    "print(\"Зажеванная строка:\")\n",
    "for index in range(len(input_string)):\n",
    "    for count in range(index + 1):\n",
    "        print(input_string[index], end=\"\")\n",
    "\n",
    "if \" \" in input_string:\n",
    "    print()\n",
    "    print(\"Зажеванная строка (но с пробелами):\")\n",
    "    for index in range(len(input_string)):\n",
    "        if input_string[index] != \" \":\n",
    "            for count in range(index + 1):\n",
    "                print(input_string[index], end=\"\")\n",
    "        else: print(\"\", end=\" \")"
   ]
  },
  {
   "cell_type": "markdown",
   "metadata": {},
   "source": [
    "12. Изобразите извилистый спуск улитки по стене по заданной траектории.\n",
    "Вводится одна строка. Начальный символ этой строки — символ рисования пути улитки.\n",
    "Далее следует последовательность символов “<”, “>” и “V”, которые означают движение\n",
    "улитки, соответственно, влево, вправо и вниз **(и \"^\" - движение вверх)**.\n",
    "~~Гарантируется, что по любой горизонтали движение происходит только в одну сторону (иными словами, между идущими в любом порядке “<” и “>” всегда есть хотя бы один “V”) и что путь не пройдёт левее начального положения.~~\n",
    "Выводятся несколько строк, состоящих из символов рисования пути и пробелов. Верхний\n",
    "левый угол соответствует начальному положению улитки. Каждый последующий символ\n",
    "входной строки означает, что нужно дорисовать символ рисования пути левее, правее или\n",
    "ниже предыдущего. Пробелы используются для отступов.\n",
    "- Зацените мой щедевр: `□<<^<>^>>>>>V>VV<V<<<<<<<<<^<^^^^>^>>>>>>>>>>>>>V>VVV>V>V>>>^>^^^>VVVVV<V<<<<<<<<<<<<<<<<<<<<<<<<>^>>>`"
   ]
  },
  {
   "cell_type": "code",
   "execution_count": null,
   "metadata": {},
   "outputs": [],
   "source": [
    "path = input(\"Введите траекторию улитки\")\n",
    "\n",
    "draw_char = path[0]\n",
    "x, y = 0, 0\n",
    "coordinates = {}\n",
    "\n",
    "coordinates[(x, y)] = draw_char\n",
    "\n",
    "for direction in path[1:]:\n",
    "    if direction == '<':\n",
    "        x -= 1\n",
    "    elif direction == '>':\n",
    "        x += 1\n",
    "    elif direction == 'V':\n",
    "        y += 1\n",
    "    elif direction == '^':\n",
    "        y -= 1\n",
    "    coordinates[(x, y)] = draw_char\n",
    "\n",
    "min_x = min(x for x, y in coordinates.keys())\n",
    "max_x = max(x for x, y in coordinates.keys())\n",
    "min_y = min(y for x, y in coordinates.keys())\n",
    "max_y = max(y for x, y in coordinates.keys())\n",
    "\n",
    "for y in range(min_y, max_y + 1):\n",
    "    for x in range(min_x, max_x + 1):\n",
    "        print(coordinates.get((x, y), ' '), end='')\n",
    "    print()"
   ]
  },
  {
   "cell_type": "markdown",
   "metadata": {},
   "source": [
    "13. Дан список чисел. Выведите все элементы списка, которые больше предыдущего элемента."
   ]
  },
  {
   "cell_type": "code",
   "execution_count": null,
   "metadata": {},
   "outputs": [],
   "source": [
    "array = []\n",
    "\n",
    "while True:\n",
    "    try:\n",
    "        array.append(int(input(\"Введите следующее число в массив, или введите нечисловое значение для завершения заполнения массива\")))\n",
    "    except:\n",
    "        break\n",
    "\n",
    "print(array)\n",
    "print()\n",
    "print(\"Элементы больше предыдущего в списке: \")\n",
    "\n",
    "for number in range(1, len(array)):\n",
    "    if array[number] > array[number - 1]:\n",
    "        print(array[number], end=\" \")"
   ]
  },
  {
   "cell_type": "markdown",
   "metadata": {},
   "source": [
    "14. Переставьте соседние элементы списка. Если элементов нечетное число, то последний элемент остается на своем месте."
   ]
  },
  {
   "cell_type": "code",
   "execution_count": null,
   "metadata": {},
   "outputs": [],
   "source": [
    "import math\n",
    "\n",
    "try:\n",
    "    array_size = int(input(\"Введите размер массива\"))\n",
    "    math.sqrt(array_size)\n",
    "except Exception as error:\n",
    "    print(\"Произошел некорректный ввод данных:\", error)\n",
    "else:\n",
    "    array = []\n",
    "\n",
    "    for index in range(array_size):\n",
    "        array.append(input(\"Введите значение элемента \" + str(index + 1)))\n",
    "\n",
    "    print(array)\n",
    "\n",
    "    for index in range(0, array_size - 1, 2):\n",
    "        array[index], array[index + 1] = array[index + 1], array[index]\n",
    "\n",
    "    print()\n",
    "    print(\"Реарранжерованный список:\")\n",
    "    print(array)"
   ]
  },
  {
   "cell_type": "markdown",
   "metadata": {},
   "source": [
    "15. Напишите программу, которая составляет новое предложение по номерам слов из исходной строки. Предложение должно начинаться с большой буквы. ~~Гарантируется, что в исходной строке только одна заглавная буква (в начале предложения).~~ Нумерация слов начинается с единицы."
   ]
  },
  {
   "cell_type": "code",
   "execution_count": null,
   "metadata": {},
   "outputs": [],
   "source": [
    "initial_sentence = str(input(\"Введите предложение\"))\n",
    "array = []\n",
    "\n",
    "while True:\n",
    "    try:\n",
    "        array.append(int(input(\"Введите следующее число в массив, или введите нечисловое значение для завершения заполнения массива\")))\n",
    "    except:\n",
    "        break\n",
    "\n",
    "print(initial_sentence)\n",
    "print(array)\n",
    "\n",
    "words = initial_sentence.split()\n",
    "\n",
    "valid_values = [index - 1 for index in array if index <= len(words) and index > 0]\n",
    "\n",
    "reordered_words = [words[index] for index in valid_values]\n",
    "reordered_sentence = \" \".join(reordered_words)\n",
    "\n",
    "invalid_values = [index for index in array if index > len(words) or index <= 0]\n",
    "if invalid_values:\n",
    "    print()\n",
    "    print(\"Следующие значения были игнорированы из-за несоответствия словам предложения:\")\n",
    "    print(invalid_values)\n",
    "\n",
    "try:\n",
    "    reordered_sentence = reordered_sentence[0].upper() + reordered_sentence[1:].lower()\n",
    "except Exception as error:\n",
    "    print(\"Произошел некорректный ввод данных:\", error)\n",
    "else:\n",
    "    print()\n",
    "    print(\"Новое предложение:\")\n",
    "    print(reordered_sentence)"
   ]
  },
  {
   "cell_type": "markdown",
   "metadata": {},
   "source": [
    "16. Дан список чисел. Определить сколько в нем встречается различных чисел"
   ]
  },
  {
   "cell_type": "code",
   "execution_count": null,
   "metadata": {},
   "outputs": [],
   "source": [
    "array = []\n",
    "\n",
    "while True:\n",
    "    try:\n",
    "        array.append(int(input(\"Введите следующее число в массив, или введите нечисловое значение для завершения заполнения массива\")))\n",
    "    except:\n",
    "        break\n",
    "\n",
    "unique = set(array)\n",
    "\n",
    "print(array)\n",
    "\n",
    "print()\n",
    "print(\"Число уникальных чисел:\")\n",
    "print(len(unique))"
   ]
  },
  {
   "cell_type": "markdown",
   "metadata": {},
   "source": [
    "17. Даны два списка чисел. Посчитать сколько чисел содержится одновременно в обоих списках"
   ]
  },
  {
   "cell_type": "code",
   "execution_count": null,
   "metadata": {},
   "outputs": [],
   "source": [
    "array1 = []\n",
    "array2 = []\n",
    "\n",
    "while True:\n",
    "    try:\n",
    "        array1.append(int(input(\"Введите следующее число в первый массив, или введите нечисловое значение для перехода ко второму массиву\")))\n",
    "    except:\n",
    "        break\n",
    "\n",
    "while True:\n",
    "    try:\n",
    "        array2.append(int(input(\"Введите следующее число во второй массив, или введите нечисловое значение для завершения заполнения массивов\")))\n",
    "    except:\n",
    "        break\n",
    "\n",
    "intersections = list(set(array1) & set(array2))\n",
    "\n",
    "print(array1)\n",
    "print(array2)\n",
    "\n",
    "print()\n",
    "print(\"Число чисел в обоих списках:\")\n",
    "print(len(intersections))"
   ]
  },
  {
   "cell_type": "markdown",
   "metadata": {},
   "source": [
    "18. Дан текст: в первой строке записано число строк, далее идут сами строки. Определите, сколько различных слов содержится в этом тексте. Словом считается последовательность непробельных символов идущих подряд, слова разделены одним или большим числом пробелов или символами конца строки."
   ]
  },
  {
   "cell_type": "code",
   "execution_count": null,
   "metadata": {},
   "outputs": [],
   "source": [
    "try:\n",
    "    line_count = int(input(\"Введите число строк\"))\n",
    "    math.sqrt(line_count)\n",
    "except Exception as error:\n",
    "    print(\"Произошел некорректный ввод данных:\", error)\n",
    "\n",
    "lines = []\n",
    "\n",
    "for index in range(line_count):\n",
    "    lines.append(input(\"Введите текст строки \" + str(index + 1)))\n",
    "\n",
    "text = \"\\n\".join(lines)\n",
    "text = str(line_count) + \"\\n\" + text\n",
    "\n",
    "print(text)\n",
    "\n",
    "word_count = len(text.split()) - 1\n",
    "\n",
    "print()\n",
    "print(\"В тексте \" + str(word_count) + \" слов\")"
   ]
  },
  {
   "cell_type": "markdown",
   "metadata": {},
   "source": [
    "19. В единственной строке записан текст. Для каждого слова из данного текста подсчитайте сколько раз оно встречалось в этом тексте ранее. Словом считается последовательность непробельных символов идущих подряд, слова разделены одним или большим числом пробелов или символами конца строки."
   ]
  },
  {
   "cell_type": "code",
   "execution_count": null,
   "metadata": {},
   "outputs": [],
   "source": [
    "from collections import Counter\n",
    "\n",
    "text = str(input(\"Введите текст\"))\n",
    "print(text)\n",
    "\n",
    "words = text.split()\n",
    "word_repeats = dict(Counter(words))\n",
    "\n",
    "print()\n",
    "print(word_repeats)"
   ]
  },
  {
   "cell_type": "markdown",
   "metadata": {},
   "source": [
    "20. Вам дан словарь, состоящий из пар слов. Каждое слово является синонимом к парному ему слову. Все слова в словаре различны. Для слова из словаря, записанного в последней строке, определите его синоним."
   ]
  },
  {
   "cell_type": "code",
   "execution_count": null,
   "metadata": {},
   "outputs": [],
   "source": [
    "#Я сдаюсь пытаться сделать консольный ввод для такой махины\n",
    "dictionary = \"\"\"2\n",
    "alpha beta\n",
    "jesus christ\n",
    "jesus\"\"\"\n",
    "\n",
    "print(dictionary)\n",
    "\n",
    "try:\n",
    "    lines = dictionary.split('\\n')\n",
    "    line_count = int(lines[0])\n",
    "    synonym_dict = {}\n",
    "\n",
    "    for index in range(1, line_count + 1):\n",
    "        pair = lines[index].split()\n",
    "        synonym_dict[pair[0]] = pair[1]\n",
    "        synonym_dict[pair[1]] = pair[0]\n",
    "\n",
    "    word = lines[-1]\n",
    "    print(synonym_dict.get(word, \"Синоним не найден\"))\n",
    "\n",
    "except Exception as error:\n",
    "    print(\"Произошел некорректный ввод данных:\", error)\n"
   ]
  },
  {
   "cell_type": "markdown",
   "metadata": {},
   "source": [
    "21. Как известно, в США президент выбирается не прямым голосованием, а путем двухуровневого голосования. Сначала проводятся выборы в каждом штате и определяется победитель выборов в данном штате. Затем проводятся государственные выборы: на этих выборах каждый штат имеет определенное число голосов — число выборщиков от этого штата. На практике, все выборщики от штата голосуют в соответствии с результами голосования внутри штата, то есть на заключительной стадии выборов в голосовании участвуют штаты, имеющие различное число голосов. В первой строке дано количество записей. Далее, каждая запись содержит фамилию кандидата и число голосов, отданных за него в одном из штатов. Подведите итоги выборов: для каждого из участника голосования определите число отданных за него голосов. Участников нужно выводить в алфавитном порядке."
   ]
  },
  {
   "cell_type": "code",
   "execution_count": null,
   "metadata": {},
   "outputs": [],
   "source": [
    "from collections import defaultdict\n",
    "\n",
    "input_data = \"\"\"5\n",
    "McCain 10\n",
    "McCain 5\n",
    "Obama 9\n",
    "Obama 8\n",
    "McCain 1\"\"\"\n",
    "\n",
    "lines = input_data.split('\\n')\n",
    "\n",
    "line_count = int(lines[0])\n",
    "\n",
    "votes = defaultdict(int)\n",
    "\n",
    "for line in lines[1:line_count + 1]:\n",
    "    candidate, count = line.split()\n",
    "    votes[candidate] += int(count)\n",
    "\n",
    "for candidate in sorted(votes.keys()):\n",
    "    print(candidate + \" \" + str(votes[candidate]))"
   ]
  },
  {
   "cell_type": "markdown",
   "metadata": {},
   "source": [
    "22. При помощи синтаксиса списочных выражений выполните задания:\n",
    "    1. Пусть дан список my_list. Создайте новый список из элементов my_list, которые меньше 5.\n",
    "    2. Пусть дан список my_list. Создайте новый список из элементов my_list, деленных на 2.\n",
    "    3. Пусть дан список my_list. Создайте новый список из элементов my_list, которые больше 17, умножив их на 2.\n",
    "    4. Создайте список, включающий числа от 0 до введённого пользователем, возведённые в квадрат.\n",
    "    5. Используя списочное выражение и метод split, составьте список из введённых чисел, записанных на одной строке без указания заранее их количества; затем выведите их квадраты также на одной строке.\n",
    "    6. Используя списочное выражение и метод split, составьте список из введённых чисел, записанных на одной строке без указания заранее их количества; затем выведите на одной строке только те квадраты нечетных чисел, которые не заканчиваются на цифру 9. Постарайтесь решить данную задачу в одну строку.\n"
   ]
  },
  {
   "cell_type": "code",
   "execution_count": null,
   "metadata": {},
   "outputs": [],
   "source": [
    "my_list = []\n",
    "\n",
    "while True:\n",
    "    try:\n",
    "        my_list.append(int(input(\"Введите следующее число в массив, или введите нечисловое значение для завершения заполнения массива\")))\n",
    "    except:\n",
    "        break\n",
    "\n",
    "#1\n",
    "new_list = [x for x in my_list if x < 5]\n",
    "print(new_list)\n",
    "\n",
    "#2\n",
    "new_list = [x / 2 for x in my_list]\n",
    "print(new_list)\n",
    "\n",
    "#3\n",
    "new_list = [x * 2 for x in my_list if x > 17]\n",
    "print(new_list)\n",
    "\n",
    "#4\n",
    "new_list = [x**2 for x in my_list]\n",
    "print(new_list)\n",
    "\n",
    "#5\n",
    "my_list2 = [int(x) for x in input(\"Введите числа через пробел: \").split()]\n",
    "new_list = [x**2 for x in my_list2]\n",
    "print(\" \".join(map(str, new_list)))\n",
    "\n",
    "#6\n",
    "print(\" \".join([str(x**2) for x in [int(num) for num in input(\"Введите числа через пробел: \").split()] if x % 2 != 0 and str(x**2)[-1] != '9']))"
   ]
  },
  {
   "cell_type": "markdown",
   "metadata": {},
   "source": [
    "23. Напишите программу для построения горизонтальных столбчатых диаграмм с помощью символа звёздочки. Выводя строку, не используйте для этого цикл."
   ]
  },
  {
   "cell_type": "code",
   "execution_count": null,
   "metadata": {},
   "outputs": [],
   "source": [
    "my_list = [3, 7, 1, 10, 4]\n",
    "\n",
    "while True:\n",
    "    try:\n",
    "        my_list.append(int(input(\"Введите следующее число в массив, или введите нечисловое значение для завершения заполнения массива\")))\n",
    "    except:\n",
    "        break\n",
    "\n",
    "diagram = \"\\n\".join([\"*\" * length for length in my_list])\n",
    "\n",
    "print(diagram)"
   ]
  },
  {
   "cell_type": "markdown",
   "metadata": {},
   "source": [
    "24. Чтобы из трех отрезков можно было составить треугольник, необходимо и достаточно, чтобы сумма длин любых двух отрезков была строго больше третьего. Напишите функцию triangle(a, b, c), которая принимает на вход три длины отрезков и определяет, можно ли из этих отрезков составить треугольник. Ваша функция должна печатать «Это треугольник», если составить треугольник можно, и «Это не треугольник», если нельзя."
   ]
  },
  {
   "cell_type": "code",
   "execution_count": null,
   "metadata": {},
   "outputs": [],
   "source": [
    "def triangle(a, b, c):\n",
    "    if a + b > c and a + c > b and b + c > a:\n",
    "        print(\"Это треугольник\")\n",
    "    else:\n",
    "        print(\"Это не треугольник\")\n",
    "\n",
    "try:\n",
    "    a = int(input(\"Введите сторону a\"))\n",
    "    b = int(input(\"Введите сторону b\"))\n",
    "    c = int(input(\"Введите сторону c\"))\n",
    "except Exception as error:\n",
    "    print(\"Произошел некорректный ввод данных:\", error)\n",
    "else:\n",
    "    triangle(a, b, c)    # Вывод: «Это не треугольник»"
   ]
  },
  {
   "cell_type": "markdown",
   "metadata": {},
   "source": [
    "25. Палиндром — это строка (или слово), которая читается одинаково в обоих направлениях, например, «12321» или известный пример Афанасия Фета «А роза упала на лапу Азора». Напишите функцию palindrome(s), которая принимает в качестве параметра строку и определяет, является ли она палиндромом. Функция должна возвращать строку «Палиндром» или «Не палиндром» соответственно. Примечания: При проверке считайте большие и маленькие буквы одинаковыми, а также игнорируйте пробелы."
   ]
  },
  {
   "cell_type": "code",
   "execution_count": null,
   "metadata": {},
   "outputs": [],
   "source": [
    "def palindrome(s):\n",
    "    \n",
    "    s_cleaned = ''.join(s.lower().split())\n",
    "    \n",
    "    if s_cleaned == s_cleaned[::-1]:\n",
    "        return \"Палиндром\"\n",
    "    else:\n",
    "        return \"Не палиндром\"\n",
    "\n",
    "\n",
    "print(palindrome(input(\"Введите строку\")))"
   ]
  }
 ],
 "metadata": {
  "kernelspec": {
   "display_name": ".venv",
   "language": "python",
   "name": "python3"
  },
  "language_info": {
   "codemirror_mode": {
    "name": "ipython",
    "version": 3
   },
   "file_extension": ".py",
   "mimetype": "text/x-python",
   "name": "python",
   "nbconvert_exporter": "python",
   "pygments_lexer": "ipython3",
   "version": "3.13.2"
  }
 },
 "nbformat": 4,
 "nbformat_minor": 2
}
